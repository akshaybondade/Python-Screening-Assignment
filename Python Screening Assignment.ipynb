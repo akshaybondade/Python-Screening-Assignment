{
 "cells": [
  {
   "cell_type": "markdown",
   "id": "66356e75",
   "metadata": {},
   "source": [
    "# 1. Create a function in python to read the text file and replace specific content of the file."
   ]
  },
  {
   "cell_type": "code",
   "execution_count": 83,
   "id": "f7d51b2b",
   "metadata": {},
   "outputs": [
    {
     "name": "stdout",
     "output_type": "stream",
     "text": [
      "C:\\Users\\8915\\Pictures\\FSDS1\\Back End Developer\\example.txt\n",
      "This is a placement assignment\n",
      "This is a screening assignment\n"
     ]
    }
   ],
   "source": [
    "import re\n",
    "file = open(\"{}\".format(input()),\"r+\")\n",
    "data = file.read()\n",
    "print(data)\n",
    "data = data.replace('placement','screening')\n",
    "file.close()\n",
    "print(data)"
   ]
  },
  {
   "cell_type": "markdown",
   "id": "6672ba75",
   "metadata": {},
   "source": [
    "# 2. Demonstrate use of abstract class, multiple inheritance and decorator in python using examples."
   ]
  },
  {
   "cell_type": "code",
   "execution_count": 50,
   "id": "28302d0a",
   "metadata": {},
   "outputs": [],
   "source": [
    "from abc import ABC, abstractmethod\n",
    "\n",
    "class Shape(ABC):\n",
    "    @abstractmethod\n",
    "    def printarea(self):\n",
    "        return 0\n",
    "    \n",
    "class Rectangle(Shape):\n",
    "    type = 'Rectangle'\n",
    "    sides = 4\n",
    "    \n",
    "    def __init__(self):\n",
    "        self.length = 5\n",
    "        self.breadth = 7\n",
    "        \n",
    "    def printarea(self):\n",
    "        return self.length * self.breadth\n",
    "    \n",
    "class Square(Shape):\n",
    "    type = 'Square'\n",
    "    sides = 4\n",
    "    \n",
    "    def __init__(self):\n",
    "        self.side = 6\n",
    "        \n",
    "    def printarea(self):\n",
    "        return self.side * self.side"
   ]
  },
  {
   "cell_type": "code",
   "execution_count": 56,
   "id": "1db82866",
   "metadata": {},
   "outputs": [
    {
     "data": {
      "text/plain": [
       "35"
      ]
     },
     "execution_count": 56,
     "metadata": {},
     "output_type": "execute_result"
    }
   ],
   "source": [
    "x = Rectangle()\n",
    "x.printarea()"
   ]
  },
  {
   "cell_type": "code",
   "execution_count": 57,
   "id": "34e95151",
   "metadata": {},
   "outputs": [
    {
     "data": {
      "text/plain": [
       "36"
      ]
     },
     "execution_count": 57,
     "metadata": {},
     "output_type": "execute_result"
    }
   ],
   "source": [
    "y = Square()\n",
    "y.printarea()"
   ]
  },
  {
   "cell_type": "code",
   "execution_count": 84,
   "id": "2d9e28a9",
   "metadata": {},
   "outputs": [],
   "source": [
    "from abc import ABC, abstractmethod\n",
    "\n",
    "class Mercedes(ABC):\n",
    "    \n",
    "    def __init__(self):\n",
    "        super().__init__()\n",
    "        \n",
    "    @abstractmethod\n",
    "    def milaege():\n",
    "        print(\"Better milaege is expected..\")\n",
    "        \n",
    "class Mercedes_Ben_E_class(Mercedes):\n",
    "    \n",
    "    def milaege(self):\n",
    "        print(\"Milaege = 16.1 kmpl\")\n",
    "        \n",
    "class Mercedes_Ben_E_exlcusive_class(Mercedes_Ben_E_class,Mercedes):\n",
    "    \n",
    "    def milaege(self):\n",
    "        print(\"Milaege = 15 kmpl\")\n",
    "        "
   ]
  },
  {
   "cell_type": "code",
   "execution_count": 85,
   "id": "46e7fa1a",
   "metadata": {},
   "outputs": [
    {
     "name": "stdout",
     "output_type": "stream",
     "text": [
      "Better milaege is expected..\n"
     ]
    }
   ],
   "source": [
    "x = Mercedes.milaege()"
   ]
  },
  {
   "cell_type": "code",
   "execution_count": 86,
   "id": "5ebc7399",
   "metadata": {},
   "outputs": [],
   "source": [
    "x = Mercedes_Ben_C_class()"
   ]
  },
  {
   "cell_type": "code",
   "execution_count": 87,
   "id": "180e6234",
   "metadata": {},
   "outputs": [
    {
     "name": "stdout",
     "output_type": "stream",
     "text": [
      "Milaege = 20.3 kmpl\n"
     ]
    }
   ],
   "source": [
    "x.milaege()"
   ]
  },
  {
   "cell_type": "code",
   "execution_count": 88,
   "id": "f84d4819",
   "metadata": {},
   "outputs": [
    {
     "name": "stdout",
     "output_type": "stream",
     "text": [
      "Milaege = 15 kmpl\n"
     ]
    }
   ],
   "source": [
    "y = Mercedes_Ben_E_exlcusive_class()\n",
    "y.milaege()"
   ]
  },
  {
   "cell_type": "code",
   "execution_count": null,
   "id": "9ad749a8",
   "metadata": {},
   "outputs": [],
   "source": []
  }
 ],
 "metadata": {
  "kernelspec": {
   "display_name": "Python 3 (ipykernel)",
   "language": "python",
   "name": "python3"
  },
  "language_info": {
   "codemirror_mode": {
    "name": "ipython",
    "version": 3
   },
   "file_extension": ".py",
   "mimetype": "text/x-python",
   "name": "python",
   "nbconvert_exporter": "python",
   "pygments_lexer": "ipython3",
   "version": "3.9.7"
  }
 },
 "nbformat": 4,
 "nbformat_minor": 5
}
