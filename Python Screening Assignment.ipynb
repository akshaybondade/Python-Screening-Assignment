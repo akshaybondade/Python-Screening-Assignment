{
 "cells": [
  {
   "cell_type": "markdown",
   "id": "bd039386",
   "metadata": {},
   "source": [
    "# 1. Create a function in python to read the text file and replace specific content of the file."
   ]
  },
  {
   "cell_type": "code",
   "execution_count": 83,
   "id": "7143bf1a",
   "metadata": {},
   "outputs": [
    {
     "name": "stdout",
     "output_type": "stream",
     "text": [
      "C:\\Users\\8915\\Pictures\\FSDS1\\Back End Developer\\example.txt\n",
      "This is a placement assignment\n",
      "This is a screening assignment\n"
     ]
    }
   ],
   "source": [
    "import re\n",
    "file = open(\"{}\".format(input()),\"r+\")\n",
    "data = file.read()\n",
    "print(data)\n",
    "data = data.replace('placement','screening')\n",
    "file.close()\n",
    "print(data)"
   ]
  },
  {
   "cell_type": "markdown",
   "id": "f239fc01",
   "metadata": {},
   "source": [
    "# 2. Demonstrate use of abstract class, multiple inheritance and decorator in python using examples."
   ]
  },
  {
   "cell_type": "code",
   "execution_count": 53,
   "id": "bbad51e0",
   "metadata": {},
   "outputs": [],
   "source": [
    "from abc import ABC\n",
    "\n",
    "class Mercedes(ABC):\n",
    "    \n",
    "    company_website = 'https://www.mercedes-benz.co.in/'\n",
    "    name = 'Mercedes'\n",
    "    def __init__(self):\n",
    "        self.car_class = 'E-class'\n",
    "        self.milaege = '16 kmpl'\n",
    "        self.year_of_manufacture = 2022 \n",
    "        self.car_class1 = 'S-class'\n",
    "        self.milaege1 = '12.8 kmpl'\n",
    "        self.year_of_manufacture1 = 2021\n",
    "    \n",
    "    def contact_details(self):\n",
    "        print(\"Company website\", self.company_website)\n",
    "        \n",
    "class Mercedes_Ben_E_class(Mercedes):\n",
    "        \n",
    "    def details_E_class(self):\n",
    "        print('{0} {1} has {2} milaege and this model is manufactured in {3}'.format(self.name, self.car_class, self.milaege, self.year_of_manufacture) )\n",
    "\n",
    "class Mercedes_Ben_S_class(Mercedes):\n",
    "        \n",
    "    def details_S_class(self):\n",
    "        print('{0} {1} has {2} milaege and this model is manufactured in {3}'.format(self.name, self.car_class1, self.milaege1, self.year_of_manufacture1) )\n",
    "\n",
    "        \n",
    "class Mercedes_Ben_cars(Mercedes_Ben_E_class,Mercedes_Ben_S_class):\n",
    "    pass\n"
   ]
  },
  {
   "cell_type": "code",
   "execution_count": 57,
   "id": "d131d5d5",
   "metadata": {},
   "outputs": [],
   "source": [
    "a = Mercedes_Ben_cars()"
   ]
  },
  {
   "cell_type": "code",
   "execution_count": 58,
   "id": "55b80262",
   "metadata": {},
   "outputs": [
    {
     "name": "stdout",
     "output_type": "stream",
     "text": [
      "Mercedes E-class has 16 kmpl milaege and this model is manufactured in 2022\n"
     ]
    }
   ],
   "source": [
    "a.details_E_class()"
   ]
  },
  {
   "cell_type": "code",
   "execution_count": 59,
   "id": "ac4277b8",
   "metadata": {},
   "outputs": [
    {
     "name": "stdout",
     "output_type": "stream",
     "text": [
      "Mercedes S-class has 12.8 kmpl milaege and this model is manufactured in 2021\n"
     ]
    }
   ],
   "source": [
    "a.details_S_class()"
   ]
  }
 ],
 "metadata": {
  "kernelspec": {
   "display_name": "Python 3 (ipykernel)",
   "language": "python",
   "name": "python3"
  },
  "language_info": {
   "codemirror_mode": {
    "name": "ipython",
    "version": 3
   },
   "file_extension": ".py",
   "mimetype": "text/x-python",
   "name": "python",
   "nbconvert_exporter": "python",
   "pygments_lexer": "ipython3",
   "version": "3.9.7"
  }
 },
 "nbformat": 4,
 "nbformat_minor": 5
}
